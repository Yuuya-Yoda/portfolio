{
 "cells": [
  {
   "cell_type": "code",
   "execution_count": 6,
   "metadata": {},
   "outputs": [
    {
     "name": "stdout",
     "output_type": "stream",
     "text": [
      "{'侑也': 5000, '景介': 3000, 'セッシー': 0, 'YOSHINARI': 0}\n",
      "['セッシーさん → 侑也さん     ¥2000', 'YOSHINARIさん → 侑也さん     ¥1000', 'YOSHINARIさん → 景介さん     ¥1000']\n"
     ]
    }
   ],
   "source": [
    "# モジュール\n",
    "import math\n",
    "\n",
    "\n",
    "\n",
    " \n",
    "# メイン関数\n",
    "def main(dic):\n",
    "  settle_msg = []\n",
    "  print(dic)\n",
    "  paid_list = list(dic.values())\n",
    "  name_list = list(dic.keys())\n",
    "  total = sum(paid_list)          # 合計金額\n",
    "  head_count = len(name_list)     # 合計人数\n",
    "  split_bill = total / head_count # 割り勘額\n",
    "  split_bill_round = math.ceil(split_bill)\n",
    "\n",
    "  for i in range(head_count):\n",
    "    dic[name_list[i]] -= split_bill_round\n",
    "\n",
    "  while (min(dic.values()) < 0):\n",
    "    min_person = min(dic, key=dic.get)\n",
    "    max_person = max(dic, key=dic.get)\n",
    "    will_paid = min(dic.values())*-1\n",
    "    will_accept = max(dic.values())\n",
    "\n",
    "    if will_accept > will_paid:\n",
    "      settle_msg.append(f\"{min_person}さん → {max_person}さん     ¥{will_paid}\")\n",
    "      dic[min_person] += will_paid\n",
    "      dic[max_person] -= will_paid\n",
    "        \n",
    "    elif will_accept < will_paid:\n",
    "      if will_accept != 0:\n",
    "          settle_msg.append(f\"{min_person}さん → {max_person}さん     ¥{will_accept}\")\n",
    "      dic[min_person] += will_accept\n",
    "      dic[max_person] -= will_accept\n",
    "\n",
    "    elif will_accept == will_paid:\n",
    "      if will_paid != 0:\n",
    "          settle_msg.append(f\"{min_person}さん → {max_person}さん     ¥{will_paid}\")\n",
    "      dic[min_person] += will_paid\n",
    "      dic[max_person] -= will_paid\n",
    "    \n",
    "    else:\n",
    "      raise Exception\n",
    "\n",
    "    if will_accept == 0:\n",
    "      break\n",
    "\n",
    "\n",
    "\n",
    "  print(settle_msg)\n",
    "\n",
    "dic = {'侑也': 5000, '景介': 3000, 'セッシー': 0, 'YOSHINARI': 0}\n",
    "main(dic)"
   ]
  }
 ],
 "metadata": {
  "kernelspec": {
   "display_name": "Python 3",
   "name": "python3"
  },
  "language_info": {
   "codemirror_mode": {
    "name": "ipython",
    "version": 3
   },
   "file_extension": ".py",
   "mimetype": "text/x-python",
   "name": "python",
   "nbconvert_exporter": "python",
   "pygments_lexer": "ipython3",
   "version": "3.8.5"
  },
  "orig_nbformat": 2
 },
 "nbformat": 4,
 "nbformat_minor": 2
}